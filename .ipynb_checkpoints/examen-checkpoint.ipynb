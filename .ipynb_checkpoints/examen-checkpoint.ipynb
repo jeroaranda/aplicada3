{
 "cells": [
  {
   "cell_type": "code",
   "execution_count": 133,
   "metadata": {},
   "outputs": [],
   "source": [
    "import os\n",
    "import pandas as pd\n",
    "import numpy as np\n",
    "import matplotlib.pylab as plt\n",
    "from sklearn.linear_model import LogisticRegression\n",
    "from sklearn import metrics\n",
    "import seaborn as sns\n",
    "from sklearn.model_selection import train_test_split\n",
    "plt.rcParams['figure.figsize'] = (20, 10)\n",
    "from sklearn.metrics import confusion_matrix"
   ]
  },
  {
   "cell_type": "markdown",
   "metadata": {},
   "source": [
    "# Examen parcial 1\n",
    "Jerónimo Aranda Barois 150344\n",
    "\n",
    "## 0. Obtener muestra\n",
    "Leamos los datos y posteriormente obtengamos una muestra del 85% que será salvada en un nuevo archivo llamado `mi_muestra150344.csv`.\n",
    "\n",
    "Cómo podemos ver el archivo original contiene 382 observaciones y 20 columnas:\n"
   ]
  },
  {
   "cell_type": "code",
   "execution_count": 29,
   "metadata": {},
   "outputs": [
    {
     "name": "stdout",
     "output_type": "stream",
     "text": [
      "(382, 20)\n"
     ]
    }
   ],
   "source": [
    "df=pd.read_csv('BREXIT.csv')\n",
    "print(df.shape)"
   ]
  },
  {
   "cell_type": "markdown",
   "metadata": {},
   "source": [
    "Esperaríamos que la muestra tuviera aprox 85% de 382, instanciemos la muestra con nuestra clave única como semilla."
   ]
  },
  {
   "cell_type": "code",
   "execution_count": 30,
   "metadata": {},
   "outputs": [
    {
     "name": "stdout",
     "output_type": "stream",
     "text": [
      "(325, 20)\n"
     ]
    }
   ],
   "source": [
    "df=df.sample(frac=.85,random_state=150344)\n",
    "df.to_csv('mi_muestra150344.csv')\n",
    "print(df.shape)"
   ]
  },
  {
   "cell_type": "markdown",
   "metadata": {},
   "source": [
    "La muestra ha sido guardada que fue creada con el correspondiente tamaño y semilla.\n",
    "\n",
    "## 1. Análisis Exploratorio\n",
    "\n",
    "Para comenzar el análisis exploratorio comencemos por anexar la columna `Resultado` que será booleana y con ver las primeras observaciones de nuestra muestra."
   ]
  },
  {
   "cell_type": "code",
   "execution_count": 47,
   "metadata": {},
   "outputs": [
    {
     "data": {
      "text/html": [
       "<div>\n",
       "<style scoped>\n",
       "    .dataframe tbody tr th:only-of-type {\n",
       "        vertical-align: middle;\n",
       "    }\n",
       "\n",
       "    .dataframe tbody tr th {\n",
       "        vertical-align: top;\n",
       "    }\n",
       "\n",
       "    .dataframe thead th {\n",
       "        text-align: right;\n",
       "    }\n",
       "</style>\n",
       "<table border=\"1\" class=\"dataframe\">\n",
       "  <thead>\n",
       "    <tr style=\"text-align: right;\">\n",
       "      <th></th>\n",
       "      <th>identificador</th>\n",
       "      <th>codRegion</th>\n",
       "      <th>Region</th>\n",
       "      <th>codigo_area</th>\n",
       "      <th>area</th>\n",
       "      <th>num_electores</th>\n",
       "      <th>lista_nominal</th>\n",
       "      <th>Boletas_verificadas</th>\n",
       "      <th>participacion</th>\n",
       "      <th>total_votos</th>\n",
       "      <th>...</th>\n",
       "      <th>v_REMAIN</th>\n",
       "      <th>v_LEAVE</th>\n",
       "      <th>v_nulos</th>\n",
       "      <th>v_error</th>\n",
       "      <th>Vx2opciones</th>\n",
       "      <th>otros_errores</th>\n",
       "      <th>en_blanco</th>\n",
       "      <th>Remain</th>\n",
       "      <th>Leave</th>\n",
       "      <th>RESULTADO</th>\n",
       "    </tr>\n",
       "  </thead>\n",
       "  <tbody>\n",
       "    <tr>\n",
       "      <th>114</th>\n",
       "      <td>28</td>\n",
       "      <td>E12000007</td>\n",
       "      <td>London</td>\n",
       "      <td>E09000028</td>\n",
       "      <td>Southwark</td>\n",
       "      <td>195875</td>\n",
       "      <td>129688</td>\n",
       "      <td>129680</td>\n",
       "      <td>66.20</td>\n",
       "      <td>129677.0</td>\n",
       "      <td>...</td>\n",
       "      <td>94293</td>\n",
       "      <td>35209</td>\n",
       "      <td>175</td>\n",
       "      <td>0</td>\n",
       "      <td>60</td>\n",
       "      <td>5</td>\n",
       "      <td>110</td>\n",
       "      <td>72.81</td>\n",
       "      <td>27.19</td>\n",
       "      <td>True</td>\n",
       "    </tr>\n",
       "    <tr>\n",
       "      <th>44</th>\n",
       "      <td>260</td>\n",
       "      <td>E12000006</td>\n",
       "      <td>East</td>\n",
       "      <td>E07000241</td>\n",
       "      <td>Welwyn Hatfield</td>\n",
       "      <td>78146</td>\n",
       "      <td>58649</td>\n",
       "      <td>58641</td>\n",
       "      <td>75.04</td>\n",
       "      <td>58641.0</td>\n",
       "      <td>...</td>\n",
       "      <td>27550</td>\n",
       "      <td>31060</td>\n",
       "      <td>31</td>\n",
       "      <td>0</td>\n",
       "      <td>10</td>\n",
       "      <td>0</td>\n",
       "      <td>21</td>\n",
       "      <td>47.01</td>\n",
       "      <td>52.99</td>\n",
       "      <td>False</td>\n",
       "    </tr>\n",
       "    <tr>\n",
       "      <th>52</th>\n",
       "      <td>196</td>\n",
       "      <td>E12000004</td>\n",
       "      <td>East Midlands</td>\n",
       "      <td>E07000033</td>\n",
       "      <td>Bolsover</td>\n",
       "      <td>58063</td>\n",
       "      <td>41999</td>\n",
       "      <td>42000</td>\n",
       "      <td>72.33</td>\n",
       "      <td>41999.0</td>\n",
       "      <td>...</td>\n",
       "      <td>12242</td>\n",
       "      <td>29730</td>\n",
       "      <td>27</td>\n",
       "      <td>0</td>\n",
       "      <td>5</td>\n",
       "      <td>1</td>\n",
       "      <td>21</td>\n",
       "      <td>29.17</td>\n",
       "      <td>70.83</td>\n",
       "      <td>False</td>\n",
       "    </tr>\n",
       "    <tr>\n",
       "      <th>267</th>\n",
       "      <td>371</td>\n",
       "      <td>E12000008</td>\n",
       "      <td>South East</td>\n",
       "      <td>E07000226</td>\n",
       "      <td>Crawley</td>\n",
       "      <td>73575</td>\n",
       "      <td>53884</td>\n",
       "      <td>53883</td>\n",
       "      <td>73.24</td>\n",
       "      <td>53884.0</td>\n",
       "      <td>...</td>\n",
       "      <td>22388</td>\n",
       "      <td>31447</td>\n",
       "      <td>49</td>\n",
       "      <td>0</td>\n",
       "      <td>19</td>\n",
       "      <td>9</td>\n",
       "      <td>21</td>\n",
       "      <td>41.59</td>\n",
       "      <td>58.41</td>\n",
       "      <td>False</td>\n",
       "    </tr>\n",
       "    <tr>\n",
       "      <th>97</th>\n",
       "      <td>11</td>\n",
       "      <td>E12000007</td>\n",
       "      <td>London</td>\n",
       "      <td>E09000011</td>\n",
       "      <td>Greenwich</td>\n",
       "      <td>168967</td>\n",
       "      <td>117470</td>\n",
       "      <td>117472</td>\n",
       "      <td>69.52</td>\n",
       "      <td>117470.0</td>\n",
       "      <td>...</td>\n",
       "      <td>65248</td>\n",
       "      <td>52117</td>\n",
       "      <td>105</td>\n",
       "      <td>0</td>\n",
       "      <td>35</td>\n",
       "      <td>1</td>\n",
       "      <td>69</td>\n",
       "      <td>55.59</td>\n",
       "      <td>44.41</td>\n",
       "      <td>True</td>\n",
       "    </tr>\n",
       "  </tbody>\n",
       "</table>\n",
       "<p>5 rows × 21 columns</p>\n",
       "</div>"
      ],
      "text/plain": [
       "     identificador  codRegion         Region codigo_area             area  \\\n",
       "114             28  E12000007         London   E09000028        Southwark   \n",
       "44             260  E12000006           East   E07000241  Welwyn Hatfield   \n",
       "52             196  E12000004  East Midlands   E07000033         Bolsover   \n",
       "267            371  E12000008     South East   E07000226          Crawley   \n",
       "97              11  E12000007         London   E09000011        Greenwich   \n",
       "\n",
       "    num_electores  lista_nominal  Boletas_verificadas  participacion  \\\n",
       "114        195875         129688               129680          66.20   \n",
       "44          78146          58649                58641          75.04   \n",
       "52          58063          41999                42000          72.33   \n",
       "267         73575          53884                53883          73.24   \n",
       "97         168967         117470               117472          69.52   \n",
       "\n",
       "     total_votos    ...      v_REMAIN  v_LEAVE  v_nulos  v_error  Vx2opciones  \\\n",
       "114     129677.0    ...         94293    35209      175        0           60   \n",
       "44       58641.0    ...         27550    31060       31        0           10   \n",
       "52       41999.0    ...         12242    29730       27        0            5   \n",
       "267      53884.0    ...         22388    31447       49        0           19   \n",
       "97      117470.0    ...         65248    52117      105        0           35   \n",
       "\n",
       "     otros_errores  en_blanco  Remain  Leave  RESULTADO  \n",
       "114              5        110   72.81  27.19       True  \n",
       "44               0         21   47.01  52.99      False  \n",
       "52               1         21   29.17  70.83      False  \n",
       "267              9         21   41.59  58.41      False  \n",
       "97               1         69   55.59  44.41       True  \n",
       "\n",
       "[5 rows x 21 columns]"
      ]
     },
     "execution_count": 47,
     "metadata": {},
     "output_type": "execute_result"
    }
   ],
   "source": [
    "df['RESULTADO']=df['Remain']>50\n",
    "df.head()"
   ]
  },
  {
   "cell_type": "markdown",
   "metadata": {},
   "source": [
    "Ahora procedamos a ver las columnas que tiene cada una de nuestras observaciones."
   ]
  },
  {
   "cell_type": "code",
   "execution_count": 39,
   "metadata": {
    "scrolled": true
   },
   "outputs": [
    {
     "name": "stdout",
     "output_type": "stream",
     "text": [
      "<class 'pandas.core.frame.DataFrame'>\n",
      "Int64Index: 325 entries, 114 to 94\n",
      "Data columns (total 21 columns):\n",
      "identificador          325 non-null int64\n",
      "codRegion              325 non-null object\n",
      "Region                 325 non-null object\n",
      "codigo_area            325 non-null object\n",
      "area                   325 non-null object\n",
      "num_electores          325 non-null object\n",
      "lista_nominal          325 non-null int64\n",
      "Boletas_verificadas    325 non-null int64\n",
      "participacion          325 non-null float64\n",
      "total_votos            325 non-null float64\n",
      "Vot_validos            325 non-null int64\n",
      "v_REMAIN               325 non-null int64\n",
      "v_LEAVE                325 non-null int64\n",
      "v_nulos                325 non-null int64\n",
      "v_error                325 non-null int64\n",
      "Vx2opciones            325 non-null int64\n",
      "otros_errores          325 non-null int64\n",
      "en_blanco              325 non-null int64\n",
      "Remain                 325 non-null float64\n",
      "Leave                  325 non-null float64\n",
      "RESULTADO              325 non-null bool\n",
      "dtypes: bool(1), float64(4), int64(11), object(5)\n",
      "memory usage: 53.6+ KB\n"
     ]
    }
   ],
   "source": [
    "df.info()"
   ]
  },
  {
   "cell_type": "markdown",
   "metadata": {},
   "source": [
    "Hay 4 variables con valores flotantes, 11 con valores enteros, 1 de tipo booleano que anexamos y 5 de tipo string. De ellas tenemos 325 observaciones.\n",
    "\n",
    "A continuación podemos ver algunas estadísticas interesantes de cada uno de nuestros valores."
   ]
  },
  {
   "cell_type": "code",
   "execution_count": 40,
   "metadata": {},
   "outputs": [
    {
     "data": {
      "text/html": [
       "<div>\n",
       "<style scoped>\n",
       "    .dataframe tbody tr th:only-of-type {\n",
       "        vertical-align: middle;\n",
       "    }\n",
       "\n",
       "    .dataframe tbody tr th {\n",
       "        vertical-align: top;\n",
       "    }\n",
       "\n",
       "    .dataframe thead th {\n",
       "        text-align: right;\n",
       "    }\n",
       "</style>\n",
       "<table border=\"1\" class=\"dataframe\">\n",
       "  <thead>\n",
       "    <tr style=\"text-align: right;\">\n",
       "      <th></th>\n",
       "      <th>identificador</th>\n",
       "      <th>lista_nominal</th>\n",
       "      <th>Boletas_verificadas</th>\n",
       "      <th>participacion</th>\n",
       "      <th>total_votos</th>\n",
       "      <th>Vot_validos</th>\n",
       "      <th>v_REMAIN</th>\n",
       "      <th>v_LEAVE</th>\n",
       "      <th>v_nulos</th>\n",
       "      <th>v_error</th>\n",
       "      <th>Vx2opciones</th>\n",
       "      <th>otros_errores</th>\n",
       "      <th>en_blanco</th>\n",
       "      <th>Remain</th>\n",
       "      <th>Leave</th>\n",
       "    </tr>\n",
       "  </thead>\n",
       "  <tbody>\n",
       "    <tr>\n",
       "      <th>count</th>\n",
       "      <td>325.000000</td>\n",
       "      <td>325.000000</td>\n",
       "      <td>325.000000</td>\n",
       "      <td>325.000000</td>\n",
       "      <td>325.000000</td>\n",
       "      <td>325.000000</td>\n",
       "      <td>325.000000</td>\n",
       "      <td>325.000000</td>\n",
       "      <td>325.000000</td>\n",
       "      <td>325.000000</td>\n",
       "      <td>325.000000</td>\n",
       "      <td>325.000000</td>\n",
       "      <td>325.000000</td>\n",
       "      <td>325.000000</td>\n",
       "      <td>325.000000</td>\n",
       "    </tr>\n",
       "    <tr>\n",
       "      <th>mean</th>\n",
       "      <td>192.190769</td>\n",
       "      <td>87872.230769</td>\n",
       "      <td>87405.172308</td>\n",
       "      <td>1126.074308</td>\n",
       "      <td>86351.160338</td>\n",
       "      <td>87338.243077</td>\n",
       "      <td>42819.658462</td>\n",
       "      <td>45064.596923</td>\n",
       "      <td>569.870769</td>\n",
       "      <td>1.498462</td>\n",
       "      <td>23.270769</td>\n",
       "      <td>2.458462</td>\n",
       "      <td>38.993846</td>\n",
       "      <td>47.639908</td>\n",
       "      <td>52.606585</td>\n",
       "    </tr>\n",
       "    <tr>\n",
       "      <th>std</th>\n",
       "      <td>109.893863</td>\n",
       "      <td>64931.307444</td>\n",
       "      <td>64001.825906</td>\n",
       "      <td>14136.863064</td>\n",
       "      <td>63861.248361</td>\n",
       "      <td>63952.679232</td>\n",
       "      <td>36831.289960</td>\n",
       "      <td>31673.309649</td>\n",
       "      <td>6434.248261</td>\n",
       "      <td>12.343996</td>\n",
       "      <td>26.978396</td>\n",
       "      <td>4.899197</td>\n",
       "      <td>31.443560</td>\n",
       "      <td>11.313881</td>\n",
       "      <td>10.361288</td>\n",
       "    </tr>\n",
       "    <tr>\n",
       "      <th>min</th>\n",
       "      <td>1.000000</td>\n",
       "      <td>4405.000000</td>\n",
       "      <td>4405.000000</td>\n",
       "      <td>59.250000</td>\n",
       "      <td>62.940000</td>\n",
       "      <td>4399.000000</td>\n",
       "      <td>3312.000000</td>\n",
       "      <td>1087.000000</td>\n",
       "      <td>6.000000</td>\n",
       "      <td>0.000000</td>\n",
       "      <td>0.000000</td>\n",
       "      <td>0.000000</td>\n",
       "      <td>4.000000</td>\n",
       "      <td>24.440000</td>\n",
       "      <td>21.380000</td>\n",
       "    </tr>\n",
       "    <tr>\n",
       "      <th>25%</th>\n",
       "      <td>102.000000</td>\n",
       "      <td>55194.000000</td>\n",
       "      <td>55195.000000</td>\n",
       "      <td>70.210000</td>\n",
       "      <td>54910.000000</td>\n",
       "      <td>55166.000000</td>\n",
       "      <td>23797.000000</td>\n",
       "      <td>28781.000000</td>\n",
       "      <td>34.000000</td>\n",
       "      <td>0.000000</td>\n",
       "      <td>10.000000</td>\n",
       "      <td>0.000000</td>\n",
       "      <td>21.000000</td>\n",
       "      <td>40.060000</td>\n",
       "      <td>46.340000</td>\n",
       "    </tr>\n",
       "    <tr>\n",
       "      <th>50%</th>\n",
       "      <td>194.000000</td>\n",
       "      <td>72801.000000</td>\n",
       "      <td>72801.000000</td>\n",
       "      <td>74.530000</td>\n",
       "      <td>72146.000000</td>\n",
       "      <td>72764.000000</td>\n",
       "      <td>33723.000000</td>\n",
       "      <td>37318.000000</td>\n",
       "      <td>46.000000</td>\n",
       "      <td>0.000000</td>\n",
       "      <td>16.000000</td>\n",
       "      <td>1.000000</td>\n",
       "      <td>30.000000</td>\n",
       "      <td>46.200000</td>\n",
       "      <td>53.810000</td>\n",
       "    </tr>\n",
       "    <tr>\n",
       "      <th>75%</th>\n",
       "      <td>285.000000</td>\n",
       "      <td>103319.000000</td>\n",
       "      <td>103319.000000</td>\n",
       "      <td>78.080000</td>\n",
       "      <td>101723.000000</td>\n",
       "      <td>103231.000000</td>\n",
       "      <td>49261.000000</td>\n",
       "      <td>52713.000000</td>\n",
       "      <td>74.000000</td>\n",
       "      <td>0.000000</td>\n",
       "      <td>27.000000</td>\n",
       "      <td>3.000000</td>\n",
       "      <td>45.000000</td>\n",
       "      <td>53.900000</td>\n",
       "      <td>60.040000</td>\n",
       "    </tr>\n",
       "    <tr>\n",
       "      <th>max</th>\n",
       "      <td>381.000000</td>\n",
       "      <td>790647.000000</td>\n",
       "      <td>790523.000000</td>\n",
       "      <td>228678.000000</td>\n",
       "      <td>790523.000000</td>\n",
       "      <td>790149.000000</td>\n",
       "      <td>440707.000000</td>\n",
       "      <td>349442.000000</td>\n",
       "      <td>87418.000000</td>\n",
       "      <td>201.000000</td>\n",
       "      <td>311.000000</td>\n",
       "      <td>63.000000</td>\n",
       "      <td>286.000000</td>\n",
       "      <td>132.000000</td>\n",
       "      <td>75.560000</td>\n",
       "    </tr>\n",
       "  </tbody>\n",
       "</table>\n",
       "</div>"
      ],
      "text/plain": [
       "       identificador  lista_nominal  Boletas_verificadas  participacion  \\\n",
       "count     325.000000     325.000000           325.000000     325.000000   \n",
       "mean      192.190769   87872.230769         87405.172308    1126.074308   \n",
       "std       109.893863   64931.307444         64001.825906   14136.863064   \n",
       "min         1.000000    4405.000000          4405.000000      59.250000   \n",
       "25%       102.000000   55194.000000         55195.000000      70.210000   \n",
       "50%       194.000000   72801.000000         72801.000000      74.530000   \n",
       "75%       285.000000  103319.000000        103319.000000      78.080000   \n",
       "max       381.000000  790647.000000        790523.000000  228678.000000   \n",
       "\n",
       "         total_votos    Vot_validos       v_REMAIN        v_LEAVE  \\\n",
       "count     325.000000     325.000000     325.000000     325.000000   \n",
       "mean    86351.160338   87338.243077   42819.658462   45064.596923   \n",
       "std     63861.248361   63952.679232   36831.289960   31673.309649   \n",
       "min        62.940000    4399.000000    3312.000000    1087.000000   \n",
       "25%     54910.000000   55166.000000   23797.000000   28781.000000   \n",
       "50%     72146.000000   72764.000000   33723.000000   37318.000000   \n",
       "75%    101723.000000  103231.000000   49261.000000   52713.000000   \n",
       "max    790523.000000  790149.000000  440707.000000  349442.000000   \n",
       "\n",
       "            v_nulos     v_error  Vx2opciones  otros_errores   en_blanco  \\\n",
       "count    325.000000  325.000000   325.000000     325.000000  325.000000   \n",
       "mean     569.870769    1.498462    23.270769       2.458462   38.993846   \n",
       "std     6434.248261   12.343996    26.978396       4.899197   31.443560   \n",
       "min        6.000000    0.000000     0.000000       0.000000    4.000000   \n",
       "25%       34.000000    0.000000    10.000000       0.000000   21.000000   \n",
       "50%       46.000000    0.000000    16.000000       1.000000   30.000000   \n",
       "75%       74.000000    0.000000    27.000000       3.000000   45.000000   \n",
       "max    87418.000000  201.000000   311.000000      63.000000  286.000000   \n",
       "\n",
       "           Remain       Leave  \n",
       "count  325.000000  325.000000  \n",
       "mean    47.639908   52.606585  \n",
       "std     11.313881   10.361288  \n",
       "min     24.440000   21.380000  \n",
       "25%     40.060000   46.340000  \n",
       "50%     46.200000   53.810000  \n",
       "75%     53.900000   60.040000  \n",
       "max    132.000000   75.560000  "
      ]
     },
     "execution_count": 40,
     "metadata": {},
     "output_type": "execute_result"
    }
   ],
   "source": [
    "df.describe()"
   ]
  },
  {
   "cell_type": "markdown",
   "metadata": {},
   "source": [
    "Hagamos algunas gráficas con algunas variables interesantes.\n",
    "\n",
    "Empecemos por graficar las regiones de acuerdo al `RESULTADO` por el que votaron:"
   ]
  },
  {
   "cell_type": "code",
   "execution_count": 60,
   "metadata": {},
   "outputs": [
    {
     "data": {
      "image/png": "[encoded data removed]",
      "text/plain": [
       "<Figure size 1440x720 with 1 Axes>"
      ]
     },
     "metadata": {
      "needs_background": "light"
     },
     "output_type": "display_data"
    }
   ],
   "source": [
    "ax = sns.countplot(x=\"RESULTADO\", hue=\"Region\", data=df,palette='tab20c')"
   ]
  },
  {
   "cell_type": "markdown",
   "metadata": {},
   "source": [
    "Las escalas entre ambos resultados parecen ser similares, podemos ver ejemplos como Yorkshire o South east con el mejor balance entre sus resultados y ejemplos como london y escocia mas desbalanceados.\n",
    "\n",
    "Con balance me refiero a 50% en la variable Remain. Hagamos ahora una tabla de contingencia para estas mismas variables:"
   ]
  },
  {
   "cell_type": "code",
   "execution_count": 69,
   "metadata": {},
   "outputs": [
    {
     "name": "stdout",
     "output_type": "stream",
     "text": [
      "RESULTADO                 False  True  All\n",
      "Region                                    \n",
      "East                         37     3   40\n",
      "East Midlands                33     0   33\n",
      "London                        5    26   31\n",
      "North East                    7     1    8\n",
      "North West                   25     7   32\n",
      "Northern Ireland              0     1    1\n",
      "Scotland                      0    29   29\n",
      "South East                   39    23   62\n",
      "South West                   24     7   31\n",
      "Wales                        15     5   20\n",
      "West Midlands                23     1   24\n",
      "Yorkshire and The Humber     10     4   14\n",
      "All                         218   107  325\n"
     ]
    }
   ],
   "source": [
    "data_crosstab = pd.crosstab(df['Region'], df['RESULTADO'], margins = True) \n",
    "print(data_crosstab) "
   ]
  },
  {
   "cell_type": "markdown",
   "metadata": {},
   "source": [
    "A partir de las gráficas anteriores y las tabla de contingencia me parece pertinente mencionar que la región a la que pertenecen es un factor muy influyente para definir el `RESULTADO`.\n",
    "\n",
    "## 2. Regresión logística\n",
    "\n",
    "Usaremos solamente la variable región para correr nuestra regresión, preparemos nuestro dataset, es decir una columna para cada región con entradas 0 o 1 si pertenece a ella o no, por ultimo la columna `RESULTADO`, pero lo haremos con el dataset completo y despues partiremos entre entrenamiento y predicción."
   ]
  },
  {
   "cell_type": "code",
   "execution_count": 105,
   "metadata": {},
   "outputs": [
    {
     "data": {
      "text/html": [
       "<div>\n",
       "<style scoped>\n",
       "    .dataframe tbody tr th:only-of-type {\n",
       "        vertical-align: middle;\n",
       "    }\n",
       "\n",
       "    .dataframe tbody tr th {\n",
       "        vertical-align: top;\n",
       "    }\n",
       "\n",
       "    .dataframe thead th {\n",
       "        text-align: right;\n",
       "    }\n",
       "</style>\n",
       "<table border=\"1\" class=\"dataframe\">\n",
       "  <thead>\n",
       "    <tr style=\"text-align: right;\">\n",
       "      <th></th>\n",
       "      <th>Region_East</th>\n",
       "      <th>Region_East Midlands</th>\n",
       "      <th>Region_London</th>\n",
       "      <th>Region_North East</th>\n",
       "      <th>Region_North West</th>\n",
       "      <th>Region_Northern Ireland</th>\n",
       "      <th>Region_Scotland</th>\n",
       "      <th>Region_South East</th>\n",
       "      <th>Region_South West</th>\n",
       "      <th>Region_Wales</th>\n",
       "      <th>Region_West Midlands</th>\n",
       "      <th>Region_Yorkshire and The Humber</th>\n",
       "      <th>RESULTADO</th>\n",
       "    </tr>\n",
       "  </thead>\n",
       "  <tbody>\n",
       "    <tr>\n",
       "      <th>0</th>\n",
       "      <td>1</td>\n",
       "      <td>0</td>\n",
       "      <td>0</td>\n",
       "      <td>0</td>\n",
       "      <td>0</td>\n",
       "      <td>0</td>\n",
       "      <td>0</td>\n",
       "      <td>0</td>\n",
       "      <td>0</td>\n",
       "      <td>0</td>\n",
       "      <td>0</td>\n",
       "      <td>0</td>\n",
       "      <td>False</td>\n",
       "    </tr>\n",
       "    <tr>\n",
       "      <th>1</th>\n",
       "      <td>1</td>\n",
       "      <td>0</td>\n",
       "      <td>0</td>\n",
       "      <td>0</td>\n",
       "      <td>0</td>\n",
       "      <td>0</td>\n",
       "      <td>0</td>\n",
       "      <td>0</td>\n",
       "      <td>0</td>\n",
       "      <td>0</td>\n",
       "      <td>0</td>\n",
       "      <td>0</td>\n",
       "      <td>False</td>\n",
       "    </tr>\n",
       "    <tr>\n",
       "      <th>2</th>\n",
       "      <td>1</td>\n",
       "      <td>0</td>\n",
       "      <td>0</td>\n",
       "      <td>0</td>\n",
       "      <td>0</td>\n",
       "      <td>0</td>\n",
       "      <td>0</td>\n",
       "      <td>0</td>\n",
       "      <td>0</td>\n",
       "      <td>0</td>\n",
       "      <td>0</td>\n",
       "      <td>0</td>\n",
       "      <td>False</td>\n",
       "    </tr>\n",
       "    <tr>\n",
       "      <th>3</th>\n",
       "      <td>1</td>\n",
       "      <td>0</td>\n",
       "      <td>0</td>\n",
       "      <td>0</td>\n",
       "      <td>0</td>\n",
       "      <td>0</td>\n",
       "      <td>0</td>\n",
       "      <td>0</td>\n",
       "      <td>0</td>\n",
       "      <td>0</td>\n",
       "      <td>0</td>\n",
       "      <td>0</td>\n",
       "      <td>False</td>\n",
       "    </tr>\n",
       "    <tr>\n",
       "      <th>4</th>\n",
       "      <td>1</td>\n",
       "      <td>0</td>\n",
       "      <td>0</td>\n",
       "      <td>0</td>\n",
       "      <td>0</td>\n",
       "      <td>0</td>\n",
       "      <td>0</td>\n",
       "      <td>0</td>\n",
       "      <td>0</td>\n",
       "      <td>0</td>\n",
       "      <td>0</td>\n",
       "      <td>0</td>\n",
       "      <td>False</td>\n",
       "    </tr>\n",
       "  </tbody>\n",
       "</table>\n",
       "</div>"
      ],
      "text/plain": [
       "   Region_East  Region_East Midlands  Region_London  Region_North East  \\\n",
       "0            1                     0              0                  0   \n",
       "1            1                     0              0                  0   \n",
       "2            1                     0              0                  0   \n",
       "3            1                     0              0                  0   \n",
       "4            1                     0              0                  0   \n",
       "\n",
       "   Region_North West  Region_Northern Ireland  Region_Scotland  \\\n",
       "0                  0                        0                0   \n",
       "1                  0                        0                0   \n",
       "2                  0                        0                0   \n",
       "3                  0                        0                0   \n",
       "4                  0                        0                0   \n",
       "\n",
       "   Region_South East  Region_South West  Region_Wales  Region_West Midlands  \\\n",
       "0                  0                  0             0                     0   \n",
       "1                  0                  0             0                     0   \n",
       "2                  0                  0             0                     0   \n",
       "3                  0                  0             0                     0   \n",
       "4                  0                  0             0                     0   \n",
       "\n",
       "   Region_Yorkshire and The Humber  RESULTADO  \n",
       "0                                0      False  \n",
       "1                                0      False  \n",
       "2                                0      False  \n",
       "3                                0      False  \n",
       "4                                0      False  "
      ]
     },
     "execution_count": 105,
     "metadata": {},
     "output_type": "execute_result"
    }
   ],
   "source": [
    "df=pd.read_csv('BREXIT.csv')\n",
    "cat='Region'\n",
    "nuevo_df= pd.get_dummies(df[cat], prefix=cat)\n",
    "cols=nuevo_df.columns\n",
    "nuevo_df['RESULTADO']=df['Remain']>50\n",
    "nuevo_df.head()"
   ]
  },
  {
   "cell_type": "markdown",
   "metadata": {},
   "source": [
    "Cómo podemos ver tenemos listo nuestro dataset, ahora separemos en `X` y `y` además obtengamos nuestra muestra para entrenamiento y para prueba, de nuevo ocupando como semilla nuestra clave única."
   ]
  },
  {
   "cell_type": "code",
   "execution_count": 106,
   "metadata": {},
   "outputs": [],
   "source": [
    "X=nuevo_df[cols]\n",
    "y=nuevo_df['RESULTADO']\n",
    "X_train, X_test, y_train, y_test = train_test_split(X, y, test_size=0.15, random_state=150344)"
   ]
  },
  {
   "cell_type": "markdown",
   "metadata": {},
   "source": [
    "Una vez separado procedamos a correr nuestra regresión logística."
   ]
  },
  {
   "cell_type": "code",
   "execution_count": 107,
   "metadata": {},
   "outputs": [
    {
     "data": {
      "text/plain": [
       "LogisticRegression(C=1.0, class_weight=None, dual=False, fit_intercept=True,\n",
       "          intercept_scaling=1, max_iter=100, multi_class='ovr', n_jobs=1,\n",
       "          penalty='l2', random_state=None, solver='liblinear', tol=0.0001,\n",
       "          verbose=0, warm_start=False)"
      ]
     },
     "execution_count": 107,
     "metadata": {},
     "output_type": "execute_result"
    }
   ],
   "source": [
    "logreg = LogisticRegression()\n",
    "logreg.fit(X_train, y_train)"
   ]
  },
  {
   "cell_type": "markdown",
   "metadata": {},
   "source": [
    "Que para las variables categóricas:"
   ]
  },
  {
   "cell_type": "code",
   "execution_count": 112,
   "metadata": {},
   "outputs": [
    {
     "data": {
      "text/plain": [
       "Index(['Region_East', 'Region_East Midlands', 'Region_London',\n",
       "       'Region_North East', 'Region_North West', 'Region_Northern Ireland',\n",
       "       'Region_Scotland', 'Region_South East', 'Region_South West',\n",
       "       'Region_Wales', 'Region_West Midlands',\n",
       "       'Region_Yorkshire and The Humber'],\n",
       "      dtype='object')"
      ]
     },
     "execution_count": 112,
     "metadata": {},
     "output_type": "execute_result"
    }
   ],
   "source": [
    "cols"
   ]
  },
  {
   "cell_type": "markdown",
   "metadata": {},
   "source": [
    "La regresión logística ajustó las siguientes $\\beta$'s"
   ]
  },
  {
   "cell_type": "code",
   "execution_count": 117,
   "metadata": {},
   "outputs": [
    {
     "data": {
      "text/plain": [
       "array([[-0.95286173, -1.35902038,  2.11360128, -1.00037108, -0.69336543,\n",
       "         0.58824402,  3.07645692,  0.37751931,  0.04427841, -0.48252869,\n",
       "        -1.65658678, -1.00045654]])"
      ]
     },
     "execution_count": 117,
     "metadata": {},
     "output_type": "execute_result"
    }
   ],
   "source": [
    "logreg.coef_"
   ]
  },
  {
   "cell_type": "markdown",
   "metadata": {},
   "source": [
    "## 3. Hora de predecir:"
   ]
  },
  {
   "cell_type": "code",
   "execution_count": 118,
   "metadata": {},
   "outputs": [
    {
     "name": "stdout",
     "output_type": "stream",
     "text": [
      "Accuracy of logistic regression classifier on test set: 0.76\n"
     ]
    }
   ],
   "source": [
    "y_pred = logreg.predict(X_test)\n",
    "print('Accuracy of logistic regression classifier on test set: {:.2f}'.format(logreg.score(X_test, y_test)))"
   ]
  },
  {
   "cell_type": "code",
   "execution_count": 134,
   "metadata": {},
   "outputs": [
    {
     "data": {
      "image/png": "[encoded data removed]",
      "text/plain": [
       "<Figure size 1440x720 with 2 Axes>"
      ]
     },
     "metadata": {
      "needs_background": "light"
     },
     "output_type": "display_data"
    }
   ],
   "source": [
    "confusion_matrix = confusion_matrix(y_test, y_pred)\n",
    "ax=sns.heatmap(confusion_matrix,annot=True)"
   ]
  },
  {
   "cell_type": "markdown",
   "metadata": {},
   "source": [
    "Cómo podemos ver nuestra predicción tuvo una Accuracy de 76%, puede ser bastante buena, nuestra posterior matriz de confusión muestra 38 aciertos para `RESULTADO` falso y 6 aciertos para verdadero y 14 errores donde el modelo clasifico a 14 areas como falso cuando en realidad votaron verdadero."
   ]
  },
  {
   "cell_type": "markdown",
   "metadata": {},
   "source": [
    "## 4. Escribir ensayo.\n",
    "\n",
    "#### Introducción:\n",
    "\n",
    "    Los modelos matemáticos deben ser ajustados en escenarios en los que tengan sentido.\n",
    " \n",
    "Es fácil ver por las gráficas en la pregunta 1. que la región era un factor determinante a la hora de predecir el resultado del **BREXIT** hipótesis que fue soportada posteriormente por el resultado arrojado por la regresión logística. Involucrar por ejemplo más información a la regresión como el `area` talvez habría sido informativo, es decir hubiera aumentado la *accuracy* del modelo, sin embargo eso hubiera sido útil para un análisis más profundo, fuera del scope del examen. Otro ejemplo de variables posiblemente informativas hubiera sido tomar en cuenta como variables categóricas como la participación o la cantidad de votos nulos establecido como una variable categórica con valor 1 o 0 dependiendo de algún valor de corte que se eligiera, como pudiera ser la media o algún otro valor representativo.\n",
    "\n",
    "Claramente los resultados arrojados por la regresión pueden ser informativos para la hora del diseño de políticas públicas o de campañas publicitarias a favor o en contra del **Brexit**. Para esto podríamos ver las categorías de la variable `Región` que fueron más significativas en promover el `Remain`. Claro esta pensando en que tenemos información correcta y total sobre el número de regiones que existen en el **Reino Unido**.\n",
    "\n",
    "#### El modelo logístico:\n",
    "\n",
    "El modelo logístico te permite definir probabilidades de pertenecer o no a una clase basado en variables categóricas. Perfecto para el fenómeno que estamos tratando, claro así conociendo sus debilidades y sus deficiencias.\n",
    "\n",
    "#### Conclusión:\n",
    "\n",
    "Utilizar este tipo de estudios favorece el entendimiento que como humanos podemos llegar a tener sobre fenómenos sociales que nos trascienden. Es muy complicado interpretar enormes cantidades de información que podrían tener relación con fenomenos de interes, nos es hasta que:\n",
    "\n",
    "* Hacemos un análisis exploratorio\n",
    "* Ajustamos un modelo\n",
    "* Concluímos\n",
    "\n",
    "Que seremos capaces, si tenemos suerte, de abstraer la información en los miles de registros para poder obtener información comprimida, significativa e interesante que nos permita traer un poco de luz estos fenomenos híper complejos."
   ]
  }
 ],
 "metadata": {
  "kernelspec": {
   "display_name": "Python 3",
   "language": "python",
   "name": "python3"
  },
  "language_info": {
   "codemirror_mode": {
    "name": "ipython",
    "version": 3
   },
   "file_extension": ".py",
   "mimetype": "text/x-python",
   "name": "python",
   "nbconvert_exporter": "python",
   "pygments_lexer": "ipython3",
   "version": "3.7.4"
  }
 },
 "nbformat": 4,
 "nbformat_minor": 2
}
